{
  "nbformat": 4,
  "nbformat_minor": 0,
  "metadata": {
    "colab": {
      "provenance": [],
      "authorship_tag": "ABX9TyPB3qi9Br9dMEZ6gbw3nJy4",
      "include_colab_link": true
    },
    "kernelspec": {
      "name": "python3",
      "display_name": "Python 3"
    },
    "language_info": {
      "name": "python"
    }
  },
  "cells": [
    {
      "cell_type": "markdown",
      "metadata": {
        "id": "view-in-github",
        "colab_type": "text"
      },
      "source": [
        "<a href=\"https://colab.research.google.com/github/Katas-23/TCS_EV_Project/blob/main/Urban_vs_Rural_The_Difference_Shown_by_Electric_Vehicles.ipynb\" target=\"_parent\"><img src=\"https://colab.research.google.com/assets/colab-badge.svg\" alt=\"Open In Colab\"/></a>"
      ]
    },
    {
      "cell_type": "markdown",
      "source": [
        "# **Urban vs. Rural: The Difference Shown by Electric Vehicles**\n",
        "## **David Gyulgyulyan**\n",
        "### **ID: 6_Gyulgyulyan**"
      ],
      "metadata": {
        "id": "82jvOFeW8Hct"
      }
    },
    {
      "cell_type": "markdown",
      "source": [
        "## **Abstract**"
      ],
      "metadata": {
        "id": "U9u_Yl9hV5ax"
      }
    },
    {
      "cell_type": "markdown",
      "source": [
        "### **Problem**"
      ],
      "metadata": {
        "id": "AKUL1qtYF9LT"
      }
    },
    {
      "cell_type": "markdown",
      "source": [
        "Electric vehicle (EV) adoption is essential for meeting the U.S. target of replacing all new vehicle sales with EVs by 2035. However, adoption rates may not be uniform across different types of communities. This study investigates the difference in EV adoption between urban and rural counties to identify potential gaps."
      ],
      "metadata": {
        "id": "W3mqYHdhFz2s"
      }
    },
    {
      "cell_type": "markdown",
      "source": [
        "### **Approach**"
      ],
      "metadata": {
        "id": "tPkwQiQKGCMK"
      }
    },
    {
      "cell_type": "markdown",
      "source": [
        "Using a dataset of registered EVs in Washington State, I created a new \"Area Type\" column to categorize each record as urban or rural. Counts of EVs by area type were calculated and visualized. Various statistical approaches (Chi-square tests, machine learning models) were explored but found unsuitable due to data characteristics."
      ],
      "metadata": {
        "id": "uhLHD02IGGRe"
      }
    },
    {
      "cell_type": "markdown",
      "source": [
        "### **Results**"
      ],
      "metadata": {
        "id": "HoGUgCS9GSwK"
      }
    },
    {
      "cell_type": "markdown",
      "source": [
        "Urban counties contained a drastically higher number of EVs compared to rural counties, with rural areas showing significantly lower adoption despite statewide incentives."
      ],
      "metadata": {
        "id": "JQsmzOPdGTHL"
      }
    },
    {
      "cell_type": "markdown",
      "source": [
        "### **Conclusion**"
      ],
      "metadata": {
        "id": "4xjhiv-VGKM6"
      }
    },
    {
      "cell_type": "markdown",
      "source": [
        "The results highlight a clear urban-rural divide in EV adoption, suggesting that rural areas may be at risk of falling behind state and national EV targets. Addressing infrastructure, accessibility, and economic barriers in rural regions will be critical to ensuring equitable progress."
      ],
      "metadata": {
        "id": "51XxMPTKGgja"
      }
    },
    {
      "cell_type": "markdown",
      "source": [
        "## **Background**"
      ],
      "metadata": {
        "id": "u35nm4gsJokI"
      }
    },
    {
      "cell_type": "markdown",
      "source": [
        "The shift toward electric vehicles is central to reducing greenhouse gas emissions and meeting ambitious climate targets, such as Washington State's plan for all new vehicle sales to be electric by 2035. While EV adoption has grown in recent years, it is unclear whether this growth is evenly distributed across urban and rural areas. This matters because unequal adoption could create pockets of underprepared communities, limiting the environmental benefits of the transition.\n",
        "\n",
        "The dataset used in this study contains registration records for EVs in Washington State, with details such as vehicle make, model, electric range, and county. To investigate the geographic disparity, I created an \"Area Type\" column that classifies each county as either urban or rural."
      ],
      "metadata": {
        "id": "EdT-fn52JqPf"
      }
    },
    {
      "cell_type": "markdown",
      "source": [
        "### **Research Question**"
      ],
      "metadata": {
        "id": "Y4pBf4IfJrjf"
      }
    },
    {
      "cell_type": "markdown",
      "source": [
        "How does electric vehicle availability differ between urban and rural counties, and what might this tell us about the difference between the area types?"
      ],
      "metadata": {
        "id": "V-vFMP_cJw8P"
      }
    },
    {
      "cell_type": "markdown",
      "source": [
        "### **Hypothesis**"
      ],
      "metadata": {
        "id": "YaZQfiLSJxm3"
      }
    },
    {
      "cell_type": "markdown",
      "source": [
        "Urban vs rural location plays a major role in EV adoption, due to greater infrastructure, economic capacity, and exposure to EV adoption incentives."
      ],
      "metadata": {
        "id": "xPRTZqlPJ1Sv"
      }
    },
    {
      "cell_type": "markdown",
      "source": [
        "## **Results**"
      ],
      "metadata": {
        "id": "3NrTTb5GKkf_"
      }
    },
    {
      "cell_type": "code",
      "source": [
        "# Before continuing, run this mega block of code.\n",
        "!pip install pandas\n",
        "import pandas as pd\n",
        "\n",
        "!pip install numpy\n",
        "import numpy as np\n",
        "\n",
        "!pip install matplotlib\n",
        "import matplotlib.pyplot as plt\n",
        "\n",
        "!pip install seaborn\n",
        "import seaborn as sns\n",
        "\n",
        "\n",
        "url = \"https://data.wa.gov/api/views/f6w7-q2d2/rows.csv?accessType=DOWNLOAD\" # This is the direct link to the CSV data\n",
        "\n",
        "ev_df = pd.read_csv(url)\n",
        "\n",
        "wa_df = ev_df[ev_df['State'] == 'WA']\n",
        "\n",
        "wa_df[wa_df.isna().any(axis = 1)]\n",
        "\n",
        "ev_df_clean = wa_df.dropna(subset=['Electric Range', 'Base MSRP']) # Drop null values in these 2 columns.\n",
        "ev_df_clean = ev_df_clean.drop(columns=['Vehicle Location']) # This column is useless, so remove it.\n",
        "ev_df_clean.reset_index(drop=True, inplace=True) # Reset index.\n",
        "\n",
        "# Creating a copy of the dataset.\n",
        "area_type_df = ev_df_clean.copy()\n",
        "\n",
        "# Urban counties are ones that are popular and have a high population.\n",
        "urban_counties = [\n",
        "    'King', 'Pierce', 'Snohomish',\n",
        "    'Spokane', 'Clark', 'Thurston', 'Kitsap'\n",
        "]\n",
        "\n",
        "# Rural counties are ones that do not fit in the urban category.\n",
        "rural_counties = [\n",
        "    'Yakima', 'Whitman', 'Cowlitz', 'Jefferson', 'Island',\n",
        "    'Klickitat', 'Whatcom', 'San Juan', 'Chelan', 'Lewis',\n",
        "    'Kittitas', 'Skagit', 'Mason', 'Clallam', 'Grays Harbor',\n",
        "    'Douglas', 'Franklin', 'Benton', 'Walla Walla', 'Wahkiakum',\n",
        "    'Skamania', 'Grant', 'Pacific', 'Asotin', 'Lincoln',\n",
        "    'Stevens', 'Okanogan', 'Adams', 'Pend Oreille', 'Ferry', 'Columbia',\n",
        "    'Garfield'\n",
        "]\n",
        "\n",
        "# These were determined from a population density map of counties in the Washington state.\n",
        "\n",
        "# This is where the classification of urban vs. rural began.\n",
        "# Define county type assigner function.\n",
        "def categorize_county(county):\n",
        "    if county in urban_counties:\n",
        "        return 'Urban'\n",
        "    elif county in rural_counties:\n",
        "        return 'Rural'\n",
        "    else:\n",
        "        return 'Unknown'  # Handle cases where a county might not be in either list, acts as a failsafe.\n",
        "\n",
        "# Run the code.\n",
        "area_type_df['Area Type'] = area_type_df['County'].apply(categorize_county)"
      ],
      "metadata": {
        "colab": {
          "base_uri": "https://localhost:8080/"
        },
        "id": "sk3y3SrAQ13Z",
        "outputId": "29a815d5-b13a-4e19-fed8-5f58a8d4479a"
      },
      "execution_count": 12,
      "outputs": [
        {
          "output_type": "stream",
          "name": "stdout",
          "text": [
            "Requirement already satisfied: pandas in /usr/local/lib/python3.11/dist-packages (2.2.2)\n",
            "Requirement already satisfied: numpy>=1.23.2 in /usr/local/lib/python3.11/dist-packages (from pandas) (2.0.2)\n",
            "Requirement already satisfied: python-dateutil>=2.8.2 in /usr/local/lib/python3.11/dist-packages (from pandas) (2.9.0.post0)\n",
            "Requirement already satisfied: pytz>=2020.1 in /usr/local/lib/python3.11/dist-packages (from pandas) (2025.2)\n",
            "Requirement already satisfied: tzdata>=2022.7 in /usr/local/lib/python3.11/dist-packages (from pandas) (2025.2)\n",
            "Requirement already satisfied: six>=1.5 in /usr/local/lib/python3.11/dist-packages (from python-dateutil>=2.8.2->pandas) (1.17.0)\n",
            "Requirement already satisfied: numpy in /usr/local/lib/python3.11/dist-packages (2.0.2)\n",
            "Requirement already satisfied: matplotlib in /usr/local/lib/python3.11/dist-packages (3.10.0)\n",
            "Requirement already satisfied: contourpy>=1.0.1 in /usr/local/lib/python3.11/dist-packages (from matplotlib) (1.3.3)\n",
            "Requirement already satisfied: cycler>=0.10 in /usr/local/lib/python3.11/dist-packages (from matplotlib) (0.12.1)\n",
            "Requirement already satisfied: fonttools>=4.22.0 in /usr/local/lib/python3.11/dist-packages (from matplotlib) (4.59.0)\n",
            "Requirement already satisfied: kiwisolver>=1.3.1 in /usr/local/lib/python3.11/dist-packages (from matplotlib) (1.4.8)\n",
            "Requirement already satisfied: numpy>=1.23 in /usr/local/lib/python3.11/dist-packages (from matplotlib) (2.0.2)\n",
            "Requirement already satisfied: packaging>=20.0 in /usr/local/lib/python3.11/dist-packages (from matplotlib) (25.0)\n",
            "Requirement already satisfied: pillow>=8 in /usr/local/lib/python3.11/dist-packages (from matplotlib) (11.3.0)\n",
            "Requirement already satisfied: pyparsing>=2.3.1 in /usr/local/lib/python3.11/dist-packages (from matplotlib) (3.2.3)\n",
            "Requirement already satisfied: python-dateutil>=2.7 in /usr/local/lib/python3.11/dist-packages (from matplotlib) (2.9.0.post0)\n",
            "Requirement already satisfied: six>=1.5 in /usr/local/lib/python3.11/dist-packages (from python-dateutil>=2.7->matplotlib) (1.17.0)\n",
            "Requirement already satisfied: seaborn in /usr/local/lib/python3.11/dist-packages (0.13.2)\n",
            "Requirement already satisfied: numpy!=1.24.0,>=1.20 in /usr/local/lib/python3.11/dist-packages (from seaborn) (2.0.2)\n",
            "Requirement already satisfied: pandas>=1.2 in /usr/local/lib/python3.11/dist-packages (from seaborn) (2.2.2)\n",
            "Requirement already satisfied: matplotlib!=3.6.1,>=3.4 in /usr/local/lib/python3.11/dist-packages (from seaborn) (3.10.0)\n",
            "Requirement already satisfied: contourpy>=1.0.1 in /usr/local/lib/python3.11/dist-packages (from matplotlib!=3.6.1,>=3.4->seaborn) (1.3.3)\n",
            "Requirement already satisfied: cycler>=0.10 in /usr/local/lib/python3.11/dist-packages (from matplotlib!=3.6.1,>=3.4->seaborn) (0.12.1)\n",
            "Requirement already satisfied: fonttools>=4.22.0 in /usr/local/lib/python3.11/dist-packages (from matplotlib!=3.6.1,>=3.4->seaborn) (4.59.0)\n",
            "Requirement already satisfied: kiwisolver>=1.3.1 in /usr/local/lib/python3.11/dist-packages (from matplotlib!=3.6.1,>=3.4->seaborn) (1.4.8)\n",
            "Requirement already satisfied: packaging>=20.0 in /usr/local/lib/python3.11/dist-packages (from matplotlib!=3.6.1,>=3.4->seaborn) (25.0)\n",
            "Requirement already satisfied: pillow>=8 in /usr/local/lib/python3.11/dist-packages (from matplotlib!=3.6.1,>=3.4->seaborn) (11.3.0)\n",
            "Requirement already satisfied: pyparsing>=2.3.1 in /usr/local/lib/python3.11/dist-packages (from matplotlib!=3.6.1,>=3.4->seaborn) (3.2.3)\n",
            "Requirement already satisfied: python-dateutil>=2.7 in /usr/local/lib/python3.11/dist-packages (from matplotlib!=3.6.1,>=3.4->seaborn) (2.9.0.post0)\n",
            "Requirement already satisfied: pytz>=2020.1 in /usr/local/lib/python3.11/dist-packages (from pandas>=1.2->seaborn) (2025.2)\n",
            "Requirement already satisfied: tzdata>=2022.7 in /usr/local/lib/python3.11/dist-packages (from pandas>=1.2->seaborn) (2025.2)\n",
            "Requirement already satisfied: six>=1.5 in /usr/local/lib/python3.11/dist-packages (from python-dateutil>=2.7->matplotlib!=3.6.1,>=3.4->seaborn) (1.17.0)\n"
          ]
        }
      ]
    },
    {
      "cell_type": "code",
      "source": [
        "# Group by 'Area Type' and count the number of EVs\n",
        "ev_counts_by_area = area_type_df['Area Type'].value_counts()\n",
        "\n",
        "# Create a bar plot\n",
        "plt.figure(figsize=(8, 6))\n",
        "colors = ['green' if area == 'Urban' else 'red' for area in ev_counts_by_area.index]\n",
        "sns.barplot(x=ev_counts_by_area.index, y=ev_counts_by_area.values, palette=colors)\n",
        "plt.title('Total Count of EVs by Area Type')\n",
        "plt.xlabel('Area Type')\n",
        "plt.ylabel('Count of EVs')\n",
        "plt.show()"
      ],
      "metadata": {
        "colab": {
          "base_uri": "https://localhost:8080/",
          "height": 651
        },
        "id": "HteFXcEJRPZ5",
        "outputId": "2ea436ce-019d-4788-e61e-fb6517a49693"
      },
      "execution_count": 13,
      "outputs": [
        {
          "output_type": "stream",
          "name": "stderr",
          "text": [
            "/tmp/ipython-input-3700738062.py:7: FutureWarning: \n",
            "\n",
            "Passing `palette` without assigning `hue` is deprecated and will be removed in v0.14.0. Assign the `x` variable to `hue` and set `legend=False` for the same effect.\n",
            "\n",
            "  sns.barplot(x=ev_counts_by_area.index, y=ev_counts_by_area.values, palette=colors)\n"
          ]
        },
        {
          "output_type": "display_data",
          "data": {
            "text/plain": [
              "<Figure size 800x600 with 1 Axes>"
            ],
            "image/png": "[encoded data removed]"
          },
          "metadata": {}
        }
      ]
    },
    {
      "cell_type": "markdown",
      "source": [
        "The result graph shows a huge amount of difference.\n",
        "The independent variables are the county types, as discussed before.\n",
        "The dependent variable consists of the total count of electric vehicles in this dataset.\n",
        "\n",
        "Urban counties, even though there are only 7 of them, have 216,101 total electric vehicles.\n",
        "Rural counties only have 33,954 electric vehicles, even though there are 32 of them.\n",
        "\n",
        "That means about 86.4% of the total electric vehicles are in urban counties!"
      ],
      "metadata": {
        "id": "OTuBdkRdS4_X"
      }
    },
    {
      "cell_type": "code",
      "source": [
        "# Before continuing, run this new mega block of code. Afterwards, run the following blocks of code.\n",
        "msrp_df = ev_df_clean[ev_df_clean['Base MSRP'] > 0]\n",
        "\n",
        "int_df = msrp_df.copy()\n",
        "\n",
        "int_df['Clean Alternative Fuel Vehicle (CAFV) Eligibility'] = ev_df_clean['Clean Alternative Fuel Vehicle (CAFV) Eligibility'].replace({\n",
        "    'Clean Alternative Fuel Vehicle Eligible': 1,\n",
        "    'Not eligible due to low battery range': 0,\n",
        "    'Eligibility unknown as battery range has not been researched': 0 # These aren't eligible as well, but this is here just in case.\n",
        "})\n",
        "\n",
        "def categorize_county(county):\n",
        "    if county in urban_counties:\n",
        "        return 'Urban'\n",
        "    elif county in rural_counties:\n",
        "        return 'Rural'\n",
        "    else:\n",
        "        return 'Unknown'  # Handle cases where a county might not be in either list, acts as a failsafe.\n",
        "\n",
        "# Run the code.\n",
        "int_df['Area Type'] = int_df['County'].apply(categorize_county))"
      ],
      "metadata": {
        "colab": {
          "base_uri": "https://localhost:8080/"
        },
        "id": "XvKQCMJQTXjP",
        "outputId": "b4e9fef5-bef2-4c33-c5d1-77864612ffb1"
      },
      "execution_count": 18,
      "outputs": [
        {
          "output_type": "stream",
          "name": "stdout",
          "text": [
            "Run the next block of code.\n"
          ]
        },
        {
          "output_type": "stream",
          "name": "stderr",
          "text": [
            "/tmp/ipython-input-3142056652.py:6: FutureWarning: Downcasting behavior in `replace` is deprecated and will be removed in a future version. To retain the old behavior, explicitly call `result.infer_objects(copy=False)`. To opt-in to the future behavior, set `pd.set_option('future.no_silent_downcasting', True)`\n",
            "  int_df['Clean Alternative Fuel Vehicle (CAFV) Eligibility'] = ev_df_clean['Clean Alternative Fuel Vehicle (CAFV) Eligibility'].replace({\n"
          ]
        }
      ]
    },
    {
      "cell_type": "code",
      "source": [
        "# Create a copy of the int_df DataFrame\n",
        "class_df_area = int_df.copy()\n",
        "\n",
        "# Define features (X) and target (y)\n",
        "X = class_df_area[['Make', 'Model', 'Electric Range', 'Base MSRP']]\n",
        "y = class_df_area['Area Type']\n",
        "\n",
        "# Apply one-hot encoding to 'Make' and 'Model' columns\n",
        "X = pd.get_dummies(X, columns=['Make', 'Model'], drop_first=True)\n",
        "\n",
        "from sklearn.model_selection import train_test_split\n",
        "\n",
        "# Split the data into training and testing sets\n",
        "X_train, X_test, y_train, y_test = train_test_split(X, y, test_size=0.2, random_state=42)\n",
        "\n",
        "# Print the shapes of the resulting sets to confirm the split\n",
        "print(\"Shape of X_train:\", X_train.shape)\n",
        "print(\"Shape of X_test:\", X_test.shape)\n",
        "print(\"Shape of y_train:\", y_train.shape)\n",
        "print(\"Shape of y_test:\", y_test.shape)\n",
        "\n",
        "from sklearn.neighbors import KNeighborsClassifier\n",
        "\n",
        "# Instantiate a KNeighborsClassifier object with n_neighbors=5\n",
        "knn = KNeighborsClassifier(n_neighbors=5)\n",
        "\n",
        "# Train the KNN model using the training data\n",
        "knn.fit(X_train, y_train)\n",
        "\n",
        "# Use the trained KNN model to make predictions on the testing data\n",
        "y_pred = knn.predict(X_test)\n",
        "\n",
        "from sklearn.metrics import accuracy_score, precision_score, recall_score, f1_score, confusion_matrix\n",
        "import matplotlib.pyplot as plt\n",
        "import seaborn as sns\n",
        "\n",
        "# Calculate accuracy\n",
        "accuracy = accuracy_score(y_test, y_pred)\n",
        "\n",
        "# Calculate precision\n",
        "precision = precision_score(y_test, y_pred, pos_label='Urban')\n",
        "\n",
        "# Calculate recall\n",
        "recall = recall_score(y_test, y_pred, pos_label='Urban')\n",
        "\n",
        "# Calculate F1-score\n",
        "f1 = f1_score(y_test, y_pred, pos_label='Urban')\n",
        "\n",
        "# Calculate confusion matrix\n",
        "conf_matrix = confusion_matrix(y_test, y_pred, labels=['Rural', 'Urban'])\n",
        "\n",
        "# Print the calculated metrics and confusion matrix\n",
        "print(f\"Accuracy: {accuracy}\")\n",
        "print(f\"Precision: {precision}\")\n",
        "print(f\"Recall: {recall}\")\n",
        "print(f\"F1-score: {f1}\")\n",
        "print(\"Confusion Matrix:\")\n",
        "print(conf_matrix)\n",
        "\n",
        "# Visualize the confusion matrix as a heatmap\n",
        "plt.figure(figsize=(8, 6))\n",
        "sns.heatmap(conf_matrix, annot=True, fmt='d', cmap='Blues', cbar=False,\n",
        "            xticklabels=['Predicted Rural', 'Predicted Urban'],\n",
        "            yticklabels=['Actual Rural', 'Actual Urban'])\n",
        "plt.xlabel('Predicted Label')\n",
        "plt.ylabel('True Label')\n",
        "plt.title('Confusion Matrix')\n",
        "plt.show()"
      ],
      "metadata": {
        "colab": {
          "base_uri": "https://localhost:8080/",
          "height": 755
        },
        "id": "GsbmdkLzTpfe",
        "outputId": "66828c29-178e-4253-d1b8-49484d6cf751"
      },
      "execution_count": 19,
      "outputs": [
        {
          "output_type": "stream",
          "name": "stdout",
          "text": [
            "Shape of X_train: (2552, 28)\n",
            "Shape of X_test: (638, 28)\n",
            "Shape of y_train: (2552,)\n",
            "Shape of y_test: (638,)\n",
            "Accuracy: 0.8495297805642633\n",
            "Precision: 0.8495297805642633\n",
            "Recall: 1.0\n",
            "F1-score: 0.9186440677966101\n",
            "Confusion Matrix:\n",
            "[[  0  96]\n",
            " [  0 542]]\n"
          ]
        },
        {
          "output_type": "display_data",
          "data": {
            "text/plain": [
              "<Figure size 800x600 with 1 Axes>"
            ],
            "image/png": "[encoded data removed]"
          },
          "metadata": {}
        }
      ]
    },
    {
      "cell_type": "markdown",
      "source": [
        "What if we tried to predict an area type based on electric vehicle data?\n",
        "To perform that, a simple machine learning model was trained on a small sample of this dataset to then guess whether an electric vehicle was located in an urban or rural county.\n",
        "The results are shocking, but also kind of expected.\n",
        "The machine learning model was heavily biased and guessed every single electric vehicle model to be in an urban county.\n",
        "This means that the difference is so unbalanced that it caused the model to guess that every car was in an urban county.\n"
      ],
      "metadata": {
        "id": "NLxQ0HtBUT49"
      }
    },
    {
      "cell_type": "markdown",
      "source": [
        "What we have here is called a Confusion Matrix.\n",
        "The 542 guesses are where the model guessed correctly.\n",
        "The 96 guesses are where the model guessed EVs to be in an urban county, but they were actually in a rural county."
      ],
      "metadata": {
        "id": "zcmUjP8bUDcG"
      }
    },
    {
      "cell_type": "markdown",
      "source": [
        "## **Discussion**"
      ],
      "metadata": {
        "id": "MzBdDWvVUgJ1"
      }
    },
    {
      "cell_type": "markdown",
      "source": [
        "**What does all of this mean? And how can it be connected to real-life?**\n",
        "Transportation planners and policymakers need to consider geographical barriers, not just incentives or vehicle availability.\n",
        "Rural counties may face limited access to charging stations, due to the lack of EVs compared to urban counties, making EV ownership impractical despite eligibility or interest.\n",
        "If this is not fixed, the transition to all electric vehicles by 2035 could be much harder to achieve.\n",
        "It could also worsen the divide in transportation benefits in urban and rural counties.\n",
        "\n",
        "**What are the next steps, and what future research can be done?**\n",
        "Next, we can focus on the charging infrastructure availability by urban and rural counties.\n",
        "This could further support the argument on why the divide is a massive issue.\n",
        "We can then focus on analyzing the thoughts of electric vehicles from people living in rural counties.\n",
        "We can also conduct the same analysis on other counties in the United States.\n",
        "\n",
        "**Electric vehicle adoption is not just about the cars, but also about where people live.**\n",
        "Urban areas are naturally better suited for early electric vehicle adoption due to infrastructure and density.\n",
        "The rural gap highlights the importance of location-specific policies and investments.\n",
        "Data like this helps reveal hidden barriers that raw vehicle counts or eligibility percentages cannot show.\n",
        "**If we want to create a future where all cars are electric, we must address geographic disparities, not just technological ones.**"
      ],
      "metadata": {
        "id": "-S5YpQjwUiZv"
      }
    },
    {
      "cell_type": "markdown",
      "source": [
        "## **Code and Data Availability**"
      ],
      "metadata": {
        "id": "a_fhecp_Utml"
      }
    },
    {
      "cell_type": "markdown",
      "source": [
        "The dataset used in this project was sourced from here:\n",
        "https://catalog.data.gov/dataset/electric-vehicle-population-data\n",
        "\n",
        "GitHub Repository:\n",
        "https://github.com/Katas-23/TCS_EV_Project\n",
        "\n",
        "All code was written in Google Colab."
      ],
      "metadata": {
        "id": "8qujtShTVN30"
      }
    },
    {
      "cell_type": "markdown",
      "source": [
        "## **Acknowledgements**"
      ],
      "metadata": {
        "id": "F6yZZXKdVeUk"
      }
    },
    {
      "cell_type": "markdown",
      "source": [
        "**I would like to thank…**\n",
        "\n",
        "Jian Zheng, my mentor.\n",
        "\n",
        "Jonathan Tran, my TA.\n",
        "\n",
        "The Coding School, for making this project possible."
      ],
      "metadata": {
        "id": "3ziDBm8wViHc"
      }
    }
  ]
}